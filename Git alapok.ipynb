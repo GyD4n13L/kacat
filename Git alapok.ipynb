{
 "metadata": {
  "name": "",
  "signature": "sha256:ca4aa738168070dc02c08850cd0ec52ed5ddf73729baf399f745d028eecd8275"
 },
 "nbformat": 3,
 "nbformat_minor": 0,
 "worksheets": [
  {
   "cells": [
    {
     "cell_type": "heading",
     "level": 1,
     "metadata": {},
     "source": [
      "GIT alapok"
     ]
    },
    {
     "cell_type": "heading",
     "level": 2,
     "metadata": {},
     "source": [
      "Telep\u00edt\u00e9s\n"
     ]
    },
    {
     "cell_type": "heading",
     "level": 3,
     "metadata": {},
     "source": [
      "Windows\n"
     ]
    },
    {
     "cell_type": "markdown",
     "metadata": {},
     "source": [
      "Windows-ra el\u0151sz\u00f6r a Msysgit-et kell telep\u00edteni. https://gitforwindows.org/ \n",
      "Itt v\u00e1laszuk ki a **Full installer for offical Git** verzi\u00f3t. A telep\u00edt\u00e9ses ablak fut\u00e1sa k\u00f6zben meg fog jelenne egy k\u00e9rd\u00e9s, ahol a k\u00f6vetkez\u0151k k\u00f6z\u00fcl lehet v\u00e1lasztani:\n",
      "    - Use Git Bash only\n",
      "    - Run Git from the Windows Command Promt\n",
      "    - Run Git and included Unix tools from the Windows Command Promt\n",
      "Itt a m\u00e1sodik opci\u00f3t kell majd v\u00e1lasztani. Ezt  folytatva majd a **Checkout windows-style, commit unix-style line endings**-et v\u00e1lasztjuk. Ez a Linux \u00e9s Windows k\u00f6z\u00f6tt sort\u00f6r\u00e9s k\u00fcl\u00f6nbs\u00e9g miatt van sz\u00fcks\u00e9g. Ez a lehet\u0151s\u00e9g fogja majd minimaliz\u00e1lni a t\u00f6rdel\u00e9si hib\u00e1kat nek\u00fcnk.\n",
      "\n",
      "Telep\u00edt\u00e9s, telep\u00edt\u00e9s, ... ha minden igaz, a v\u00e9g\u00e9n l\u00e9trej\u00f6tt az asztalon egy \"Git Bash\" nev\u0171 ikon. Ha nincs mellette egy \"Git Gui\" ikon is, akkor a Start men\u00fcben keress\u00fck meg a programok k\u00f6z\u00f6tt a Git k\u00f6nyvt\u00e1rat, \u00e9s onnan kih\u00fazhatjuk a \"Git Gui\" ikont az asztalra. Ezzel megvagyunk a Git \u00e9s a Git Gui telep\u00edt\u00e9s\u00e9vel (haszn\u00e1latot l\u00e1sd lejjebb). Megjegyz\u00e9s: alapb\u00f3l az Int\u00e9zet Octopus nev\u0171 szerver\u00e9n csak a Start men\u00fcben van a Git, de persze kih\u00fazhatjuk az Asztalra.\n",
      "\n",
      "Most telep\u00edtj\u00fck a Git Extensions-t innen.\"https://sourceforge.net/projects/gitextensions/\" Szok\u00e1sosan telep\u00edt\u0151 (egy msi kiterjeszt\u00e9s\u0171 file) let\u00f6lt, megnyit \u00e9s futtat. Gondolom a legt\u00f6bb g\u00e9pre a 32 bites opci\u00f3 kell. Ha t\u00f6bb user van a Windowsra, gondolom mindenki haszn\u00e1lhatja a progit (ezt is k\u00e9rdezi). Ezut\u00e1n megk\u00e9rdezi, hogy mi legyen az SSH kliens:\n",
      "\n",
      "    - OpenSSH\n",
      "    - Putty (plink.exe)\n",
      "\n",
      "Tudom, hogy legt\u00f6bben a Puttyot ismerik, de NE a Puttyot v\u00e1lasszuk itt, hanem az OpenSSH-t. (Ett\u0151l m\u00e9g a Puttyot ugyan\u00fagy haszn\u00e1lhatja mindenki mint eddig, a Git Extensions viszont az OpenSSH-val m\u0171k\u00f6dik egy\u00fctt j\u00f3l. Ha v\u00e9letlen\u00fcl m\u00e9gis a Putty-ot nyomtuk r\u00e1, k\u00e9s\u0151bb a be\u00e1ll\u00edt\u00e1sokn\u00e1l vissza lehet \u00e1ll\u00edtani OpenSSH-ra.) Azt\u00e1n megk\u00e9rdezi, kell-e az Msysgit, de azt m\u00e1r feltett\u00fck az el\u0151z\u0151 k\u00f6rben, \u00fagyhogy ne tegye fel m\u00e9g egyszer. KDiff3-ra is r\u00e1k\u00e9rdez, az j\u00f6het. Tov\u00e1bbi standard k\u00e9rd\u00e9sek ... a KDiff3 is k\u00e9rdez ezt-azt ... telep\u00edt\u00e9s k\u00e9sz, Start men\u00fcben programok k\u00f6zt ott kell lennie, hogy Git Extensions, \u00e9s nekem egy Git Extensions nev\u0171 tehenet is kirakott az Asztalra. Az Int\u00e9zet Octopus nev\u0171 szerver\u00e9n nincs teh\u00e9n, csak a Start men\u00fcben van a Git Extensions."
     ]
    },
    {
     "cell_type": "heading",
     "level": 3,
     "metadata": {},
     "source": [
      "Linux"
     ]
    },
    {
     "cell_type": "markdown",
     "metadata": {},
     "source": [
      "Linuxra a k\u00f6vetkez\u0151ket javaslom telep\u00edteni: git-core, gitk, git-gui, \u00e9s ami m\u00e9g kell ezeknek. Lehet csomagkezel\u0151b\u0151l (pl. Synaptic az Ubuntun), vagy"
     ]
    },
    {
     "cell_type": "code",
     "collapsed": true,
     "input": [
      "!sudo apt-get install git-core\n",
      "!sudo apt-get install gitk\n",
      "!sudo apt-get install git-gui \n"
     ],
     "language": "python",
     "metadata": {},
     "outputs": []
    },
    {
     "cell_type": "markdown",
     "metadata": {},
     "source": [
      "Amennyire \u00e9n tapasztaltam a men\u00fcbe nem teszi be a Git-et, de ezen nem kell agg\u00f3dni, ind\u00edthatjuk termin\u00e1lb\u00f3l"
     ]
    },
    {
     "cell_type": "code",
     "collapsed": true,
     "input": [
      "!git\n",
      "!gitk\n",
      "!git gui "
     ],
     "language": "python",
     "metadata": {},
     "outputs": []
    },
    {
     "cell_type": "heading",
     "level": 2,
     "metadata": {},
     "source": [
      "Haszn\u00e1lat (alapok)"
     ]
    },
    {
     "cell_type": "markdown",
     "metadata": {},
     "source": [
      "Miel\u0151tt elkezden\u00e9nk dolgozni a git-en, meg kell adnunk p\u00e1r adatott a kezd\u00e9s el\u0151tt."
     ]
    },
    {
     "cell_type": "code",
     "collapsed": true,
     "input": [
      "!git config --global user.name \"Attila Budai\""
     ],
     "language": "python",
     "metadata": {},
     "outputs": []
    },
    {
     "cell_type": "markdown",
     "metadata": {},
     "source": [
      "*Megadjuk a felhaszn\u00e1l\u00f3 nev\u00fcnket.*"
     ]
    },
    {
     "cell_type": "code",
     "collapsed": true,
     "input": [
      "!git config --global user.email attila.budai@zerotohero.hu"
     ],
     "language": "python",
     "metadata": {},
     "outputs": []
    },
    {
     "cell_type": "markdown",
     "metadata": {},
     "source": [
      "*Megadjuk a referencia mail c\u00edm\u00fcnket.*"
     ]
    },
    {
     "cell_type": "heading",
     "level": 4,
     "metadata": {},
     "source": [
      "Repository l\u00e9trehoz\u00e1sa"
     ]
    },
    {
     "cell_type": "markdown",
     "metadata": {},
     "source": [
      "Els\u0151 l\u00e9p\u00e9sk\u00e9nt l\u00e9trehozzunk egy teszt nev\u0171 k\u00f6nyvt\u00e1rat, amiben dolgozni fogunk \u00e9s egy Main.java f\u00e1jlt, ebbe a k\u00f6nyvt\u00e1rba:"
     ]
    },
    {
     "cell_type": "code",
     "collapsed": true,
     "input": [
      "!mkdir teszt \n",
      "!cd teszt; touch Main.java"
     ],
     "language": "python",
     "metadata": {},
     "outputs": [
      {
       "output_type": "stream",
       "stream": "stdout",
       "text": [
        "mkdir: nem lehet a k\u00f6vetkez\u0151 k\u00f6nyvt\u00e1rat l\u00e9trehozni: \u201dteszt\u201d: A f\u00e1jl m\u00e1r l\u00e9tezik\r\n"
       ]
      }
     ],
     "prompt_number": 5
    },
    {
     "cell_type": "markdown",
     "metadata": {},
     "source": [
      "Hozzunk l\u00e9tre egy Main.java f\u00e1jlt, ebbe a k\u00f6nyvt\u00e1rba:"
     ]
    },
    {
     "cell_type": "markdown",
     "metadata": {},
     "source": [
      "Jelen pillanatban, elkezdt\u00fck valaminek a fejleszt\u00e9s\u00e9t, teh\u00e1t ideje a verzi\u00f3kezel\u0151nket haszn\u00e1ni, amink van. \n",
      "\n",
      "\u00dagy lehet lok\u00e1lis repo-t (Repository-t) l\u00e9trehozni, ha kiadjuk a k\u00f6vetkez\u0151 parancsot:"
     ]
    },
    {
     "cell_type": "code",
     "collapsed": true,
     "input": [
      "!cd teszt ;git init"
     ],
     "language": "python",
     "metadata": {},
     "outputs": [
      {
       "output_type": "stream",
       "stream": "stdout",
       "text": [
        "Initialized empty Git repository in /home/gyorodidanielg/teszt/.git/\r\n"
       ]
      }
     ],
     "prompt_number": 4
    },
    {
     "cell_type": "markdown",
     "metadata": {},
     "source": [
      "Ekkor elk\u00e9sz\u00fcl egy .git mappa, ami tartalmazni fogja  f\u00e1jlok verzi\u00f3it valamilyen form\u00e1ban. Ezzel m\u00e9g a Main.java f\u00e1jl m\u00e9g nem verzi\u00f3kezelt, ezt meg is tudjuk n\u00e9zni:"
     ]
    },
    {
     "cell_type": "code",
     "collapsed": true,
     "input": [
      "!git status"
     ],
     "language": "python",
     "metadata": {},
     "outputs": []
    },
    {
     "cell_type": "heading",
     "level": 4,
     "metadata": {},
     "source": [
      "F\u00e1jlok hozz\u00e1ad\u00e1sa a repo-hoz"
     ]
    },
    {
     "cell_type": "markdown",
     "metadata": {},
     "source": [
      "L\u00e1tjuk, hogy a Main.java untracked \u00e1llapot\u00fa f\u00e1jl. Gondoskodjunk r\u00f3la, hogy a git verzi\u00f3kezel\u0151 kezelje ezt a f\u00e1jlt:"
     ]
    },
    {
     "cell_type": "code",
     "collapsed": true,
     "input": [
      "!git add Main.java     # \u00e1t\u00e1ll\u00edtjuk a st\u00e1tusz\u00e1t a git k\u00f6rnyezetben \u00e9rtelmezettre.\n",
      "!git commit -m \u201cMain.java l\u00e9trehozva\u201d # hozz\u00e1adjuk a git k\u00f6rnyezethez."
     ],
     "language": "python",
     "metadata": {},
     "outputs": []
    },
    {
     "cell_type": "markdown",
     "metadata": {},
     "source": [
      "( A \u2013m kapcsol\u00f3 ut\u00e1ni sz\u00f6vegr\u00e9sz nem m\u00e1s, mint a commit message. Ez az \u00fczenet az\u00e9rt fontos, hogy l\u00e1ssuk mit csin\u00e1ltunk az adott k\u00f3db\u00e1zissal. Amikor commitolunk valamit, akkor fontos, hogy egy j\u00f3l k\u00f6r\u00fclhat\u00e1rolt kis egys\u00e9g legyen, amit meg is tudunk nevezni. Ugyanis ez seg\u00edt nek\u00fcnk, \u00e9s a csapat t\u00f6bbi tagj\u00e1nak beazonos\u00edtani a commithoz tartoz\u00f3 fejleszt\u00e9seket, a releaserekr\u0151l nem is besz\u00e9lve, amikor meg kell tal\u00e1lniuk, hogy egy adott release-be mely feature-k(commitok) ker\u00fcljenek bele.) Ett\u0151l a pillanatt\u00f3l kezdve, a git ezen a f\u00e1jlon t\u00f6rt\u00e9n\u0151 v\u00e1ltoz\u00e1sokat \u00e9rz\u00e9keli. Ha megn\u00e9zz\u00fck a"
     ]
    },
    {
     "cell_type": "code",
     "collapsed": true,
     "input": [
      "!git log "
     ],
     "language": "python",
     "metadata": {},
     "outputs": []
    },
    {
     "cell_type": "markdown",
     "metadata": {},
     "source": [
      "eredm\u00e9ny\u00e9t, akkor l\u00e1tni fogjuk az els\u0151 sikeres commitunkat, \u00e9s ha m\u00e1r itt vagyunk, ellen\u0151rizz\u00fck, hogy a kor\u00e1bban tett konfigur\u00e1ci\u00f3s be\u00e1ll\u00edt\u00e1sok helyesek-e?"
     ]
    },
    {
     "cell_type": "heading",
     "level": 4,
     "metadata": {},
     "source": [
      "M\u00f3dos\u00edt\u00e1s"
     ]
    },
    {
     "cell_type": "markdown",
     "metadata": {},
     "source": [
      "Nyissuk meg a Main.java f\u00e1jlt \u00e9s m\u00f3dos\u00edtsuk a tartalm\u00e1t."
     ]
    },
    {
     "cell_type": "code",
     "collapsed": true,
     "input": [
      "!cd teszt; echo 'public class Main { public static void main(String[] args) { System.out.println(\"Hello, World\"); } }' >> Main.java"
     ],
     "language": "python",
     "metadata": {},
     "outputs": [],
     "prompt_number": 9
    },
    {
     "cell_type": "markdown",
     "metadata": {},
     "source": [
      "Ezut\u00e1n n\u00e9zz\u00fck meg mi t\u00f6rt\u00e9nt is:"
     ]
    },
    {
     "cell_type": "code",
     "collapsed": true,
     "input": [
      "!git status\n",
      "#Changes not staged for commit:\n",
      "#         mobified:   Main.java"
     ],
     "language": "python",
     "metadata": {},
     "outputs": []
    },
    {
     "cell_type": "markdown",
     "metadata": {},
     "source": [
      "Mit is mondot ez nek\u00fcnk?\n",
      "\n",
      "\n",
      "Teh\u00e1t most az az eset van, amikor a verzi\u00f3kezel\u0151 \u00e1ltal commit\u00e1lt verzi\u00f3 nem egyezik meg, a f\u00e1jlrendszeren tal\u00e1lhat\u00f3 verzi\u00f3val. Ilyenkor a tov\u00e1bbl\u00e9p\u00e9shez k\u00e9t lehet\u0151s\u00e9g\u00fcnk van: vagy visszavonjuk a v\u00e1ltoztat\u00e1st a Main.java f\u00e1jlon, vagy elfogadjuk, \u00e9s commitoljuk. Ha visszavonn\u00e1nk, akkor az al\u00e1bbi parancsot kellene kiadnunk:"
     ]
    },
    {
     "cell_type": "code",
     "collapsed": true,
     "input": [
      "!git reset --hard"
     ],
     "language": "python",
     "metadata": {},
     "outputs": []
    },
    {
     "cell_type": "markdown",
     "metadata": {},
     "source": [
      "Itt fontos, hogy minden f\u00e1jl, ami m\u00f3dosult, \u00e9s nem commitoltunk be, el fog veszni. Azok a f\u00e1jlok, amelyeket nem verzi\u00f3kezel\u00fcnk, azokkal nem fog semmi t\u00f6rt\u00e9nni, ugyanis a git nem tud r\u00f3luk.\n",
      "Ha elfogadn\u00e1nk a m\u00f3dos\u00edt\u00e1st (az implement\u00e1ci\u00f3t), akkor pedig a k\u00f6vetkez\u0151eket adn\u00e1nk ki:"
     ]
    },
    {
     "cell_type": "code",
     "collapsed": true,
     "input": [
      "!git add Main.java\n",
      "!git commit -m\u201dMain.java implement\u00e1lva\u201d"
     ],
     "language": "python",
     "metadata": {},
     "outputs": []
    },
    {
     "cell_type": "markdown",
     "metadata": {},
     "source": [
      "Szerintem fogadjuk el az implement\u00e1ci\u00f3t, \u00e9s adjuk ki az ut\u00f3bbi utas\u00edt\u00e1sokat, ugyanis el\u00e9g sz\u00e9pen siker\u00fclt a HelloWorld-t megval\u00f3s\u00edtani. :)"
     ]
    },
    {
     "cell_type": "heading",
     "level": 4,
     "metadata": {},
     "source": [
      "T\u00f6rl\u00e9s"
     ]
    },
    {
     "cell_type": "markdown",
     "metadata": {},
     "source": [
      "Ha egy f\u00e1jlt hozz\u00e1adtunk a repositoryhoz, de m\u00e9gsem szeretn\u00e9nk verzi\u00f3kezelni, akkor a k\u00f6vetkez\u0151 parancs kiad\u00e1s\u00e1val kivehetj\u00fck:"
     ]
    },
    {
     "cell_type": "code",
     "collapsed": true,
     "input": [
      "!git rm --cached Main.java\n",
      "!git commit -m\u201dMain.java elt\u00e1vol\u00edtva\u201d\n"
     ],
     "language": "python",
     "metadata": {},
     "outputs": []
    },
    {
     "cell_type": "markdown",
     "metadata": {},
     "source": [
      "Ha pedig a Main.java f\u00e1jlt is szeretn\u00e9nk kit\u00f6r\u00f6lni, akkor"
     ]
    },
    {
     "cell_type": "code",
     "collapsed": true,
     "input": [
      "!git rm Main.java\n",
      "!git commit -m\u201dMain.java t\u00f6r\u00f6lve\u201d"
     ],
     "language": "python",
     "metadata": {},
     "outputs": []
    },
    {
     "cell_type": "markdown",
     "metadata": {},
     "source": [
      "Itt fontos azt l\u00e1tnunk, hogy ha egy f\u00e1jl verzi\u00f3kezelve volt, \u00e9s \u00fagy d\u00f6nt\u00fcnk, hogy kit\u00f6r\u00f6lj\u00fck azt a f\u00e1jlrendszerr\u0151l, az m\u00e9g nem jelenti azt, hogy ezeket a f\u00e1jlokat ne tudn\u00e1nk vissza\u00e1ll\u00edtani. Ugyanis ha egy f\u00e1jl egyszer m\u00e1r verzi\u00f3kezelve volt, akkor azok a verzi\u00f3k visszakereshet\u0151ek, \u00e9s ezen verzi\u00f3kb\u00f3l vissza is \u00e1ll\u00edthat\u00f3ak. Pontosan \u00fagy, mint amikor m\u00f3dos\u00edtunk valamit (A t\u00f6rl\u00e9s is egyfajta m\u00f3dos\u00edt\u00e1s). Pontosan ez\u00e9rt is verzi\u00f3kezelj\u00fck a f\u00e1jljainkat, hogy a kor\u00e1bbi verzi\u00f3kat vissza tudjuk keresni. Azt\u00e1n, hogy mi minden m\u00e1s\u00e9rt is haszn\u00e1ljuk, az k\u00e9s\u0151bb ki fog der\u00fclni ;-)"
     ]
    },
    {
     "cell_type": "heading",
     "level": 3,
     "metadata": {},
     "source": [
      "Github.com-mal val\u00f3 kapcsolat tart\u00e1s"
     ]
    },
    {
     "cell_type": "markdown",
     "metadata": {},
     "source": [
      "Ha egy repo-t akarunk leh\u00fazni, akkor a k\u00f6vetkez\u0151t tudjuk haszn\u00e1lni. Elk\u00e9sz\u00edtj\u00fck a g\u00e9punkh\u00f6z tartoz\u00f3 ssh kulcsot. Ut\u00e1na felt\u00f6ltj\u00fck ide: https://github.com/settings/keys\n",
      "   "
     ]
    },
    {
     "cell_type": "code",
     "collapsed": false,
     "input": [
      "ssh-keygen -t rsa"
     ],
     "language": "python",
     "metadata": {},
     "outputs": []
    },
    {
     "cell_type": "markdown",
     "metadata": {},
     "source": [
      "Ha a github.com-r\u00f3l asz\u00e1rmazik a repo-nk \u00e9s a v\u00e1ltoz\u00e1sokat t\u00f6lten\u00e9nk fel, akkor a k\u00f6vetkez\u0151ket kell majd megtenni.\n",
      "\n",
      "git add f\u00e1jl-nev\n",
      "git commit -m \"f\u00e1jl_n\u00e9v\"\n",
      "git push"
     ]
    }
   ],
   "metadata": {}
  }
 ]
}